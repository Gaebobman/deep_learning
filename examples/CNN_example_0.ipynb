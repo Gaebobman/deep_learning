{
 "cells": [
  {
   "cell_type": "code",
   "execution_count": 1,
   "metadata": {},
   "outputs": [],
   "source": [
    "import torch\n",
    "import torch.nn as nn\n",
    "import torch.nn.functional as F"
   ]
  },
  {
   "cell_type": "code",
   "execution_count": 2,
   "metadata": {},
   "outputs": [],
   "source": [
    "# Example from: https://justkode.kr/deep-learning/pytorch-cnn/\n",
    "\n",
    "class CNN(nn.Module):\n",
    "    def __init__(self):\n",
    "        super(CNN, self).__init__()\n",
    "        '''\n",
    "        in_channels: 입력 채널 수\n",
    "        out_channels: 출력 채널 수\n",
    "        kernel_size: 커널 사이즈 / int 혹은 tuple\n",
    "        stride: stride 사이즈 / int 혹은 tuple / Default: 1 \n",
    "        padding: padding 사이즈/ int 혹은 tuple/ Default: 0\n",
    "        padding_mode: padding mode Default: 'zeros'\n",
    "        dilation: 커널 사이 간격 사이즈 / Fill 0 between kernel\n",
    "        groups: 입력 층의 그룹 수을 설정하여 입력의 채널 수를 그룹 수에 맞게 분류\n",
    "                그 다음, 출력의 채널 수를 그룹 수에 맞게 분리.\n",
    "                입력 그룹과 출력 그룹의 짝을 지은 다음 해당 그룹 안에서만 연산이 이루어지게 한다.\n",
    "        bias: bias 값을 설정 할 지, 말지를 결정/  Default: True\n",
    "        '''\n",
    "        self.conv1 = nn.Conv2d(in_channels=1, out_channels=3, kernel_size=5, stride=1)\n",
    "        self.conv2 = nn.Conv2d(in_channels=3, out_channels=10, kernel_size=5, stride=1)\n",
    "        self.fc1 = nn.Linear(10 * 12 * 12, 50)\n",
    "        self.fc2 = nn.Linear(50, 10)    \n",
    "        \n",
    "        \n",
    "    def forward(self, x):\n",
    "        print(\"Before: \", x.size())\n",
    "        x = F.relu(self.conv1(x))\n",
    "        print(\"After Conv1: \", x.size())\n",
    "        x = F.relu(self.conv2(x))\n",
    "        print(\"After Conv2: \", x.size())\n",
    "        x = x.view(-1, 10 * 12 * 12)\n",
    "        print(\"After Dimension reduction: \", x.size())\n",
    "        x = F.relu(self.fc1(x))\n",
    "        print(\"After FC1: \", x.size())\n",
    "        x = self.fc2(x)\n",
    "        print(\"After FC2: \", x.size())\n",
    "        return x"
   ]
  },
  {
   "cell_type": "code",
   "execution_count": 3,
   "metadata": {},
   "outputs": [
    {
     "name": "stdout",
     "output_type": "stream",
     "text": [
      "Before:  torch.Size([10, 1, 20, 20])\n",
      "After Conv1:  torch.Size([10, 3, 16, 16])\n",
      "After Conv2:  torch.Size([10, 10, 12, 12])\n",
      "After Dimension reduction:  torch.Size([10, 1440])\n",
      "After FC1:  torch.Size([10, 50])\n",
      "After FC2:  torch.Size([10, 10])\n"
     ]
    }
   ],
   "source": [
    "cnn = CNN()\n",
    "# 10: batch size, 1: channel, 20: height, 20: width\n",
    "output = cnn(torch.randn(10, 1, 20, 20))   "
   ]
  },
  {
   "cell_type": "code",
   "execution_count": 4,
   "metadata": {},
   "outputs": [],
   "source": [
    "# Pooling Layers\n",
    "class CNN1(nn.Module):\n",
    "    def __init__(self):\n",
    "        super(CNN1, self).__init__()\n",
    "        self.max_pool1 = nn.MaxPool2d(kernel_size=2)\n",
    "        self.max_pool2 = nn.MaxPool2d(kernel_size=2)\n",
    "        self.fc1 = nn.Linear(10 * 5 * 5, 50)\n",
    "        self.fc2 = nn.Linear(50, 10)\n",
    "        \n",
    "    def forward(self, x):\n",
    "        print(\"Before: \", x.size()) \n",
    "        x = F.relu(self.max_pool1(x))\n",
    "        print(\"After MaxPool1: \", x.size())\n",
    "        x = F.relu(self.max_pool2(x))\n",
    "        print(\"After MaxPool2: \", x.size())\n",
    "        x = x.view(-1, 10 * 5 * 5)\n",
    "        print(\"After Dimension reduction: \", x.size())\n",
    "        x = F.relu(self.fc1(x))\n",
    "        print(\"After FC1: \", x.size())\n",
    "        x = self.fc2(x)\n",
    "        print(\"After FC2: \", x.size())\n",
    "        return x"
   ]
  },
  {
   "cell_type": "code",
   "execution_count": 5,
   "metadata": {},
   "outputs": [
    {
     "name": "stdout",
     "output_type": "stream",
     "text": [
      "Before:  torch.Size([10, 1, 20, 20])\n",
      "After MaxPool1:  torch.Size([10, 1, 10, 10])\n",
      "After MaxPool2:  torch.Size([10, 1, 5, 5])\n",
      "After Dimension reduction:  torch.Size([1, 250])\n",
      "After FC1:  torch.Size([1, 50])\n",
      "After FC2:  torch.Size([1, 10])\n"
     ]
    }
   ],
   "source": [
    "cnn1 = CNN1()\n",
    "output = cnn1(torch.randn(10, 1, 20, 20))"
   ]
  },
  {
   "cell_type": "code",
   "execution_count": 6,
   "metadata": {},
   "outputs": [],
   "source": [
    "import torch.optim as optim\n",
    "from torchvision import datasets, transforms"
   ]
  },
  {
   "cell_type": "code",
   "execution_count": 17,
   "metadata": {},
   "outputs": [
    {
     "name": "stdout",
     "output_type": "stream",
     "text": [
      "Available devices  1\n",
      "Current cuda device  0\n",
      "NVIDIA GeForce GTX 1080 Ti\n"
     ]
    }
   ],
   "source": [
    "device = torch.device(\"cuda:0\" if torch.cuda.is_available() else \"cpu\")\n",
    "print('Available devices ', torch.cuda.device_count())\n",
    "print('Current cuda device ', torch.cuda.current_device())\n",
    "print(torch.cuda.get_device_name(device))"
   ]
  },
  {
   "cell_type": "code",
   "execution_count": 9,
   "metadata": {},
   "outputs": [],
   "source": [
    "# Train data\n",
    "train_data = datasets.MNIST('./data/', train=True, download=True, transform=transforms.Compose([\n",
    "    transforms.ToTensor(),\n",
    "    transforms.Normalize((0.1307,), (0.3081,))\n",
    "]))\n",
    "train_loader = torch.utils.data.DataLoader(train_data, batch_size=50, shuffle=True)\n",
    "\n",
    "test_data = datasets.MNIST('./data/', train=False, transform=transforms.Compose([\n",
    "    transforms.ToTensor(),\n",
    "    transforms.Normalize((0.1307,), (0.3081,))\n",
    "]))\n",
    "test_loader = torch.utils.data.DataLoader(test_data, batch_size=50, shuffle=True)"
   ]
  },
  {
   "cell_type": "code",
   "execution_count": 21,
   "metadata": {},
   "outputs": [],
   "source": [
    "class CNN2(nn.Module):\n",
    "    def __init__(self):\n",
    "        super(CNN2, self).__init__()\n",
    "        self.conv1 = nn.Conv2d(in_channels=1, out_channels=20, kernel_size=5, stride=1)\n",
    "        self.conv2 = nn.Conv2d(in_channels=20, out_channels=50, kernel_size=5, stride=1)\n",
    "        self.fc1 = nn.Linear(4 * 4 * 50, 500)\n",
    "        self.fc2 = nn.Linear(500, 10)    \n",
    "        \n",
    "        \n",
    "    def forward(self, x):\n",
    "        x = F.relu(self.conv1(x))\n",
    "        x = F.max_pool2d(x, kernel_size = 2, stride=2)\n",
    "        x = F.relu(self.conv2(x))\n",
    "        x = F.max_pool2d(x, kernel_size = 2, stride=2)  \n",
    "        \n",
    "        # Batch_size, 50, 4, 4\n",
    "        x = x.view(-1, 4 * 4 * 50)  \n",
    "        x = F.relu(self.fc1(x))\n",
    "        x = self.fc2(x)\n",
    "        return x"
   ]
  },
  {
   "cell_type": "code",
   "execution_count": 24,
   "metadata": {},
   "outputs": [],
   "source": [
    "cnn2 = CNN2()\n",
    "cnn2.to(device)\n",
    "criterion = torch.nn.CrossEntropyLoss()\n",
    "optimizer = optim.SGD(cnn2.parameters(), lr=0.01)"
   ]
  },
  {
   "cell_type": "code",
   "execution_count": 26,
   "metadata": {},
   "outputs": [
    {
     "name": "stdout",
     "output_type": "stream",
     "text": [
      "loss of 0 epoch, 0 index: 2.286928176879883\n",
      "loss of 0 epoch, 100 index: 1.3214448690414429\n",
      "loss of 0 epoch, 200 index: 0.6104733943939209\n",
      "loss of 0 epoch, 300 index: 0.14879675209522247\n",
      "loss of 0 epoch, 400 index: 0.33026039600372314\n",
      "loss of 0 epoch, 500 index: 0.17899209260940552\n",
      "loss of 0 epoch, 600 index: 0.38695457577705383\n",
      "loss of 0 epoch, 700 index: 0.17039556801319122\n",
      "loss of 0 epoch, 800 index: 0.08569011837244034\n",
      "loss of 0 epoch, 900 index: 0.28515446186065674\n",
      "loss of 0 epoch, 1000 index: 0.0805310308933258\n",
      "loss of 0 epoch, 1100 index: 0.12269935756921768\n",
      "loss of 1 epoch, 0 index: 0.1695977747440338\n",
      "loss of 1 epoch, 100 index: 0.10537528246641159\n",
      "loss of 1 epoch, 200 index: 0.28193211555480957\n",
      "loss of 1 epoch, 300 index: 0.06703651696443558\n",
      "loss of 1 epoch, 400 index: 0.12038504332304001\n",
      "loss of 1 epoch, 500 index: 0.21779827773571014\n",
      "loss of 1 epoch, 600 index: 0.04637257009744644\n",
      "loss of 1 epoch, 700 index: 0.17446580529212952\n",
      "loss of 1 epoch, 800 index: 0.09967949241399765\n",
      "loss of 1 epoch, 900 index: 0.07004091888666153\n",
      "loss of 1 epoch, 1000 index: 0.027328550815582275\n",
      "loss of 1 epoch, 1100 index: 0.08581246435642242\n",
      "loss of 2 epoch, 0 index: 0.050993070006370544\n",
      "loss of 2 epoch, 100 index: 0.04615892097353935\n",
      "loss of 2 epoch, 200 index: 0.08401617407798767\n",
      "loss of 2 epoch, 300 index: 0.021841416135430336\n",
      "loss of 2 epoch, 400 index: 0.10210087150335312\n",
      "loss of 2 epoch, 500 index: 0.022442376241087914\n",
      "loss of 2 epoch, 600 index: 0.1086195632815361\n",
      "loss of 2 epoch, 700 index: 0.10756241530179977\n",
      "loss of 2 epoch, 800 index: 0.037075720727443695\n",
      "loss of 2 epoch, 900 index: 0.1577024906873703\n",
      "loss of 2 epoch, 1000 index: 0.020633185282349586\n",
      "loss of 2 epoch, 1100 index: 0.1190156638622284\n",
      "loss of 3 epoch, 0 index: 0.018017800524830818\n",
      "loss of 3 epoch, 100 index: 0.017682302743196487\n",
      "loss of 3 epoch, 200 index: 0.10602521151304245\n",
      "loss of 3 epoch, 300 index: 0.023275529965758324\n",
      "loss of 3 epoch, 400 index: 0.028938811272382736\n",
      "loss of 3 epoch, 500 index: 0.011644392274320126\n",
      "loss of 3 epoch, 600 index: 0.02271232381463051\n",
      "loss of 3 epoch, 700 index: 0.06675880402326584\n",
      "loss of 3 epoch, 800 index: 0.02610805816948414\n",
      "loss of 3 epoch, 900 index: 0.07344984263181686\n",
      "loss of 3 epoch, 1000 index: 0.014302060939371586\n",
      "loss of 3 epoch, 1100 index: 0.031162502244114876\n",
      "loss of 4 epoch, 0 index: 0.10708168148994446\n",
      "loss of 4 epoch, 100 index: 0.10324232280254364\n",
      "loss of 4 epoch, 200 index: 0.009296228177845478\n",
      "loss of 4 epoch, 300 index: 0.13848289847373962\n",
      "loss of 4 epoch, 400 index: 0.029482509940862656\n",
      "loss of 4 epoch, 500 index: 0.01306186430156231\n",
      "loss of 4 epoch, 600 index: 0.02415286935865879\n",
      "loss of 4 epoch, 700 index: 0.05532968044281006\n",
      "loss of 4 epoch, 800 index: 0.04701216146349907\n",
      "loss of 4 epoch, 900 index: 0.02854747325181961\n",
      "loss of 4 epoch, 1000 index: 0.02298332192003727\n",
      "loss of 4 epoch, 1100 index: 0.07512254267930984\n",
      "loss of 5 epoch, 0 index: 0.012965976260602474\n",
      "loss of 5 epoch, 100 index: 0.009290728718042374\n",
      "loss of 5 epoch, 200 index: 0.010268512181937695\n",
      "loss of 5 epoch, 300 index: 0.016009027138352394\n",
      "loss of 5 epoch, 400 index: 0.034617260098457336\n",
      "loss of 5 epoch, 500 index: 0.00311597203835845\n",
      "loss of 5 epoch, 600 index: 0.021143212914466858\n",
      "loss of 5 epoch, 700 index: 0.01872996799647808\n",
      "loss of 5 epoch, 800 index: 0.05175383388996124\n",
      "loss of 5 epoch, 900 index: 0.07544494420289993\n",
      "loss of 5 epoch, 1000 index: 0.13006851077079773\n",
      "loss of 5 epoch, 1100 index: 0.031229285523295403\n",
      "loss of 6 epoch, 0 index: 0.03311796486377716\n",
      "loss of 6 epoch, 100 index: 0.06105101481080055\n",
      "loss of 6 epoch, 200 index: 0.04602441191673279\n",
      "loss of 6 epoch, 300 index: 0.022562259808182716\n",
      "loss of 6 epoch, 400 index: 0.01298891194164753\n",
      "loss of 6 epoch, 500 index: 0.005454904865473509\n",
      "loss of 6 epoch, 600 index: 0.014117094688117504\n",
      "loss of 6 epoch, 700 index: 0.032249148935079575\n",
      "loss of 6 epoch, 800 index: 0.017726672813296318\n",
      "loss of 6 epoch, 900 index: 0.015483111143112183\n",
      "loss of 6 epoch, 1000 index: 0.05183425545692444\n",
      "loss of 6 epoch, 1100 index: 0.0645395964384079\n",
      "loss of 7 epoch, 0 index: 0.0019870540127158165\n",
      "loss of 7 epoch, 100 index: 0.07636632770299911\n",
      "loss of 7 epoch, 200 index: 0.039850782603025436\n",
      "loss of 7 epoch, 300 index: 0.0338716059923172\n",
      "loss of 7 epoch, 400 index: 0.02004368044435978\n",
      "loss of 7 epoch, 500 index: 0.1562877744436264\n",
      "loss of 7 epoch, 600 index: 0.03417108952999115\n",
      "loss of 7 epoch, 700 index: 0.044293470680713654\n",
      "loss of 7 epoch, 800 index: 0.011172221042215824\n",
      "loss of 7 epoch, 900 index: 0.017739105969667435\n",
      "loss of 7 epoch, 1000 index: 0.006825240328907967\n",
      "loss of 7 epoch, 1100 index: 0.002609924878925085\n",
      "loss of 8 epoch, 0 index: 0.03516179323196411\n",
      "loss of 8 epoch, 100 index: 0.017058972269296646\n",
      "loss of 8 epoch, 200 index: 0.008667782880365849\n",
      "loss of 8 epoch, 300 index: 0.012889591045677662\n",
      "loss of 8 epoch, 400 index: 0.014762860722839832\n",
      "loss of 8 epoch, 500 index: 0.016315661370754242\n",
      "loss of 8 epoch, 600 index: 0.01766267977654934\n",
      "loss of 8 epoch, 700 index: 0.002609401009976864\n",
      "loss of 8 epoch, 800 index: 0.010430634953081608\n",
      "loss of 8 epoch, 900 index: 0.00712236762046814\n",
      "loss of 8 epoch, 1000 index: 0.008141005411744118\n",
      "loss of 8 epoch, 1100 index: 0.002435944275930524\n",
      "loss of 9 epoch, 0 index: 0.03539460152387619\n",
      "loss of 9 epoch, 100 index: 0.029204271733760834\n",
      "loss of 9 epoch, 200 index: 0.009617399424314499\n",
      "loss of 9 epoch, 300 index: 0.011053320951759815\n",
      "loss of 9 epoch, 400 index: 0.012245599180459976\n",
      "loss of 9 epoch, 500 index: 0.027073536068201065\n",
      "loss of 9 epoch, 600 index: 0.10776972770690918\n",
      "loss of 9 epoch, 700 index: 0.004374516196548939\n",
      "loss of 9 epoch, 800 index: 0.00844573974609375\n",
      "loss of 9 epoch, 900 index: 0.14465968310832977\n",
      "loss of 9 epoch, 1000 index: 0.005404594354331493\n",
      "loss of 9 epoch, 1100 index: 0.03332735598087311\n"
     ]
    }
   ],
   "source": [
    "cnn2.train()\n",
    "for epoch in range(10):\n",
    "    for index, (data, target) in enumerate(train_loader):\n",
    "        data, target = data.to(device), target.to(device)\n",
    "        optimizer.zero_grad() # Initialize gradient\n",
    "        output = cnn2(data)\n",
    "        loss = criterion(output, target)\n",
    "        loss.backward()\n",
    "        optimizer.step()\n",
    "        \n",
    "        if index % 100 == 0:\n",
    "            print(\"loss of {} epoch, {} index: {}\".format(epoch, index, loss.item()))\n",
    "            "
   ]
  },
  {
   "cell_type": "code",
   "execution_count": 28,
   "metadata": {},
   "outputs": [
    {
     "name": "stdout",
     "output_type": "stream",
     "text": [
      "\n",
      "Test set: Average loss: 6.2689, Accuracy: 9895/10000 (99%)\n",
      "\n"
     ]
    }
   ],
   "source": [
    "cnn2.eval()\n",
    "test_loss = 0\n",
    "correct = 0\n",
    "with torch.no_grad():\n",
    "    for data, target in test_loader:\n",
    "        data, target = data.to(device), target.to(device)\n",
    "        output = cnn2(data)\n",
    "        test_loss += criterion(output, target).item()\n",
    "        pred = output.argmax(dim=1, keepdim=True)   \n",
    "        correct += pred.eq(target.view_as(pred)).sum().item()\n",
    "print('\\nTest set: Average loss: {:.4f}, Accuracy: {}/{} ({:.0f}%)\\n'.format(\n",
    "        test_loss, correct, len(test_loader.dataset),\n",
    "        100. * correct / len(test_loader.dataset)))\n"
   ]
  }
 ],
 "metadata": {
  "kernelspec": {
   "display_name": "pyenv310",
   "language": "python",
   "name": "python3"
  },
  "language_info": {
   "codemirror_mode": {
    "name": "ipython",
    "version": 3
   },
   "file_extension": ".py",
   "mimetype": "text/x-python",
   "name": "python",
   "nbconvert_exporter": "python",
   "pygments_lexer": "ipython3",
   "version": "3.10.11"
  },
  "orig_nbformat": 4
 },
 "nbformat": 4,
 "nbformat_minor": 2
}
